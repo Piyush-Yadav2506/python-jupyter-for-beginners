{
 "cells": [
  {
   "cell_type": "markdown",
   "id": "45275adc",
   "metadata": {
    "id": "5573a58b"
   },
   "source": [
    "# What is Jupyter  Notebook\n",
    "* The Jupyter Notebook is an open-source web application that allows data scientists to create and share documents that           integrate live code, equations, computational output, visualizations, and other multimedia resources,\n",
    "\n",
    "* Uses include data cleaning and transformation, numerical simulation, statistical modeling, data visualization, machine         learning, and much more.\n"
   ]
  },
  {
   "cell_type": "markdown",
   "id": "70909ffa",
   "metadata": {
    "id": "1c454286"
   },
   "source": [
    "## Tutorial\n",
    "- Interactive\n",
    "- Results/outputs are stored so it is easy to review\n",
    "- Friendly for documentation\n",
    "- No limitation from performance\n",
    "- helpful shortcuts\n",
    "- Industry standard for all data science, ML, AI projects.\n",
    "\n",
    "<p> Extension of jupyter file is ipynb (i python notebook, previous name of Jupyter) </p>\n",
    "\n"
   ]
  },
  {
   "cell_type": "markdown",
   "id": "0cf24f3d",
   "metadata": {},
   "source": [
    "## Cell Types"
   ]
  },
  {
   "cell_type": "code",
   "execution_count": null,
   "id": "f0ee6550",
   "metadata": {},
   "outputs": [],
   "source": [
    "# A Code cell is the default cell type in Jupyter\n",
    "40 + 5 - 16"
   ]
  },
  {
   "cell_type": "raw",
   "id": "103b5e51",
   "metadata": {},
   "source": [
    "Any execution of code and performing operations must take place in a code cell."
   ]
  },
  {
   "cell_type": "markdown",
   "id": "e7f601c8",
   "metadata": {
    "id": "ee8239e8"
   },
   "source": [
    "## Markdown\n",
    "Text may be styled within a markdown cell. \n",
    "**This is handy for**\n",
    "### Section Headings \n",
    "or\n",
    "#### Titles\n",
    "_This allows easy viewing of your project in an organized fashion._"
   ]
  },
  {
   "cell_type": "raw",
   "id": "9a95acf9",
   "metadata": {
    "id": "291f7652"
   },
   "source": [
    "The third cell type Raw cannot perform executive tasks nor has any styling options. However, it is preferred for plain text documentation and any explanation of code or analytics, particularly if there are passages or paragraphs."
   ]
  },
  {
   "cell_type": "markdown",
   "id": "813a1316",
   "metadata": {
    "id": "e6babead",
    "jp-MarkdownHeadingCollapsed": true
   },
   "source": [
    "# Short Cuts\n",
    "\n",
    "[shift] + [enter] : run a cell\n",
    "\n",
    "Command mode:\n",
    "a : insert cell above\n",
    "\n",
    "b : insert cell below\n",
    "\n",
    "dd : delete a cell\n",
    "\n",
    "z : undo a delete cell\n",
    "\n",
    "r : convert cell to raw cell\n",
    "\n",
    "m : convert cell to Markdown cell\n",
    "\n",
    "y : convert cell to code cell\n",
    "\n",
    "c: copy a cell\n",
    "\n",
    "v : paste a cell\n",
    "\n",
    "x : cut a cell\n",
    "\n",
    "o : toggle output\n",
    "\n",
    "## Edit Mode:\n",
    "\n",
    "Ctrl + C : copy a text\n",
    "\n",
    "Ctrl + V : paste\n",
    "\n",
    "Ctrl + X : cut\n",
    "\n",
    "Ctrl + Z : undo"
   ]
  },
  {
   "cell_type": "markdown",
   "id": "38c2ce63",
   "metadata": {
    "id": "cd840a4f"
   },
   "source": [
    "# Keywords\n",
    "* Keywords are reserved words in Python with designated meanings.\n",
    "* These cannot be used as identifiers to name objects."
   ]
  },
  {
   "cell_type": "code",
   "execution_count": 28,
   "id": "02fec8d5",
   "metadata": {
    "colab": {
     "base_uri": "https://localhost:8080/"
    },
    "executionInfo": {
     "elapsed": 7,
     "status": "ok",
     "timestamp": 1679915408933,
     "user": {
      "displayName": "Jitendra Rathod",
      "userId": "08588782662248261812"
     },
     "user_tz": -330
    },
    "id": "0ab1d4b0",
    "outputId": "76093bce-910a-4418-f32f-3b52a7b24e2e"
   },
   "outputs": [
    {
     "name": "stdout",
     "output_type": "stream",
     "text": [
      "['False', 'None', 'True', 'and', 'as', 'assert', 'async', 'await', 'break', 'class', 'continue', 'def', 'del', 'elif', 'else', 'except', 'finally', 'for', 'from', 'global', 'if', 'import', 'in', 'is', 'lambda', 'nonlocal', 'not', 'or', 'pass', 'raise', 'return', 'try', 'while', 'with', 'yield']\n"
     ]
    }
   ],
   "source": [
    "import keyword\n",
    "print(keyword.kwlist)  # listing out the keywords within Python"
   ]
  },
  {
   "cell_type": "code",
   "execution_count": 29,
   "id": "eec97490",
   "metadata": {
    "id": "7a9ef08d"
   },
   "outputs": [
    {
     "data": {
      "text/plain": [
       "35"
      ]
     },
     "execution_count": 29,
     "metadata": {},
     "output_type": "execute_result"
    }
   ],
   "source": [
    "len(keyword.kwlist)"
   ]
  },
  {
   "cell_type": "markdown",
   "id": "9cea0f4f",
   "metadata": {
    "id": "c15e70c8"
   },
   "source": [
    "# Identifiers"
   ]
  },
  {
   "cell_type": "markdown",
   "id": "3bef18f7",
   "metadata": {
    "id": "41911e15"
   },
   "source": [
    "* An identifier is the name we provide to an entity such as a function or variable.\n",
    "* It helps in differentiating one entity from other.\n",
    "  \n",
    "_There are certain dos and don'ts to observe while picking an identifier._"
   ]
  },
  {
   "cell_type": "code",
   "execution_count": 30,
   "id": "b7d88cbf",
   "metadata": {
    "id": "66cb1403"
   },
   "outputs": [
    {
     "ename": "SyntaxError",
     "evalue": "invalid decimal literal (487549204.py, line 1)",
     "output_type": "error",
     "traceback": [
      "\u001b[1;36m  Cell \u001b[1;32mIn[30], line 1\u001b[1;36m\u001b[0m\n\u001b[1;33m    2var=34  #identifier cannot begin with a digit\u001b[0m\n\u001b[1;37m    ^\u001b[0m\n\u001b[1;31mSyntaxError\u001b[0m\u001b[1;31m:\u001b[0m invalid decimal literal\n"
     ]
    }
   ],
   "source": [
    "2var=34  #identifier cannot begin with a digit"
   ]
  },
  {
   "cell_type": "code",
   "execution_count": 31,
   "id": "942130c1",
   "metadata": {
    "id": "c100d47b"
   },
   "outputs": [
    {
     "ename": "SyntaxError",
     "evalue": "cannot assign to expression here. Maybe you meant '==' instead of '='? (902039452.py, line 1)",
     "output_type": "error",
     "traceback": [
      "\u001b[1;36m  Cell \u001b[1;32mIn[31], line 1\u001b[1;36m\u001b[0m\n\u001b[1;33m    word@123='abc' # cannot use special symbols\u001b[0m\n\u001b[1;37m    ^\u001b[0m\n\u001b[1;31mSyntaxError\u001b[0m\u001b[1;31m:\u001b[0m cannot assign to expression here. Maybe you meant '==' instead of '='?\n"
     ]
    }
   ],
   "source": [
    "word@123='abc' # cannot use special symbols"
   ]
  },
  {
   "cell_type": "code",
   "execution_count": 32,
   "id": "eaf68aea",
   "metadata": {
    "id": "57ac31ff"
   },
   "outputs": [
    {
     "ename": "SyntaxError",
     "evalue": "invalid syntax (3321343557.py, line 1)",
     "output_type": "error",
     "traceback": [
      "\u001b[1;36m  Cell \u001b[1;32mIn[32], line 1\u001b[1;36m\u001b[0m\n\u001b[1;33m    import=153 # Keywords cannot be used as identifier\u001b[0m\n\u001b[1;37m          ^\u001b[0m\n\u001b[1;31mSyntaxError\u001b[0m\u001b[1;31m:\u001b[0m invalid syntax\n"
     ]
    }
   ],
   "source": [
    "import=153 # Keywords cannot be used as identifier"
   ]
  },
  {
   "cell_type": "code",
   "execution_count": 33,
   "id": "a0de1e84",
   "metadata": {
    "id": "2bba50bc"
   },
   "outputs": [],
   "source": [
    "\"\"\"Correct way of defining an identifier:\n",
    "(Identifiers can be a combination of letters in lowercase (a to z) or uppercase\n",
    "and only special character allowed is _ )\"\"\"\n",
    "var_1 = 14 # the variable var_1 has been initialised with a value of 14"
   ]
  },
  {
   "cell_type": "code",
   "execution_count": 34,
   "id": "191f00a1",
   "metadata": {
    "id": "1f250660"
   },
   "outputs": [
    {
     "data": {
      "text/plain": [
       "16"
      ]
     },
     "execution_count": 34,
     "metadata": {},
     "output_type": "execute_result"
    }
   ],
   "source": [
    "VAR_1=2 # new variable assigned\n",
    "var_1 + VAR_1"
   ]
  },
  {
   "cell_type": "code",
   "execution_count": 35,
   "id": "b33d3d2c",
   "metadata": {
    "id": "683313e3"
   },
   "outputs": [],
   "source": [
    "city_ind = \"Mumbai\""
   ]
  },
  {
   "cell_type": "markdown",
   "id": "9318abd9",
   "metadata": {
    "id": "97b903b7"
   },
   "source": [
    "# Comments\n",
    "The use of comments in a code cell can explain the method or operation in use. Commenting helps to\n",
    "- Improve readability\n",
    "- Make for a quick review of the work"
   ]
  },
  {
   "cell_type": "code",
   "execution_count": 36,
   "id": "d3f99773",
   "metadata": {
    "id": "bba78a99"
   },
   "outputs": [],
   "source": [
    "# Hashtag is effective for short phrases\n",
    "units = 10\n",
    "sell_price = 120\n",
    "total = units*sell_price  # Total amount "
   ]
  },
  {
   "cell_type": "code",
   "execution_count": 37,
   "id": "525e8747",
   "metadata": {
    "id": "1ca2252d"
   },
   "outputs": [
    {
     "data": {
      "text/plain": [
       "1200"
      ]
     },
     "execution_count": 37,
     "metadata": {},
     "output_type": "execute_result"
    }
   ],
   "source": [
    "total # if we have long sentences and need to go to the next line, \n",
    "# we cannot continue it without another hashtag"
   ]
  },
  {
   "cell_type": "markdown",
   "id": "c8f4f4b4",
   "metadata": {
    "id": "2f772d53"
   },
   "source": [
    "#### The syntax is designed such that the comment is ignored by the kernel during execution of the cell."
   ]
  },
  {
   "cell_type": "code",
   "execution_count": 38,
   "id": "5f1736f0",
   "metadata": {
    "id": "31a80171"
   },
   "outputs": [
    {
     "data": {
      "text/plain": [
       "75"
      ]
     },
     "execution_count": 38,
     "metadata": {},
     "output_type": "execute_result"
    }
   ],
   "source": [
    "'''\n",
    "Multi-line remarks becomes easy to \n",
    "express with this style of commenting.\n",
    "'''\n",
    "num1 = 25\n",
    "num2 = 50\n",
    "sum = num1 + num2\n",
    "sum"
   ]
  },
  {
   "cell_type": "code",
   "execution_count": 39,
   "id": "8a671f1a",
   "metadata": {
    "id": "2bba50bc"
   },
   "outputs": [],
   "source": [
    "\"\"\"Correct way of defining an identifier:\n",
    "(Identifiers can be a combination of letters in lowercase (a to z) or uppercase\n",
    "and only special character allowed is _ )\"\"\"\n",
    "var_1 = 14 # the variable var_1 has been initialised with a value of 14"
   ]
  },
  {
   "cell_type": "markdown",
   "id": "ed39bc69",
   "metadata": {
    "id": "a76869bd"
   },
   "source": [
    "# Statements\n",
    "* Instructions that a Python interpreter can execute"
   ]
  },
  {
   "cell_type": "code",
   "execution_count": 40,
   "id": "dc957dba",
   "metadata": {
    "id": "49b580e9"
   },
   "outputs": [
    {
     "data": {
      "text/plain": [
       "290"
      ]
     },
     "execution_count": 40,
     "metadata": {},
     "output_type": "execute_result"
    }
   ],
   "source": [
    "# Single line statement\n",
    "p1 = 20 + 30 +  40  +  50 + 70 + 80\n",
    "p1"
   ]
  },
  {
   "cell_type": "code",
   "execution_count": 41,
   "id": "f3fa44e6",
   "metadata": {
    "id": "0465af83"
   },
   "outputs": [
    {
     "data": {
      "text/plain": [
       "290"
      ]
     },
     "execution_count": 41,
     "metadata": {},
     "output_type": "execute_result"
    }
   ],
   "source": [
    "# Multiple line statement\n",
    "p1 = 20 + 30 \\\n",
    "+  40  +  50  \\\n",
    "+ 70 + 80\n",
    "p1"
   ]
  },
  {
   "cell_type": "markdown",
   "id": "9c11cf16",
   "metadata": {
    "id": "a48922a0"
   },
   "source": [
    "# Variables"
   ]
  },
  {
   "cell_type": "markdown",
   "id": "c3e8c308",
   "metadata": {
    "id": "33961071"
   },
   "source": [
    "*  A Python variable creates a reserved memory location to store a value.\n",
    "*  A variable can be initialised by assigning some value to begin with."
   ]
  },
  {
   "cell_type": "code",
   "execution_count": 42,
   "id": "5d8a18b2",
   "metadata": {
    "id": "85427289"
   },
   "outputs": [],
   "source": [
    "k=30 ## variable creation"
   ]
  },
  {
   "cell_type": "code",
   "execution_count": 43,
   "id": "6cd3dc27",
   "metadata": {
    "id": "3670495c"
   },
   "outputs": [
    {
     "data": {
      "text/plain": [
       "30"
      ]
     },
     "execution_count": 43,
     "metadata": {},
     "output_type": "execute_result"
    }
   ],
   "source": [
    "k ## calling of variable"
   ]
  },
  {
   "cell_type": "code",
   "execution_count": 44,
   "id": "c80c84f3",
   "metadata": {
    "id": "fd3cbba9"
   },
   "outputs": [
    {
     "name": "stdout",
     "output_type": "stream",
     "text": [
      "30\n"
     ]
    }
   ],
   "source": [
    "print(k) ## print the variable"
   ]
  },
  {
   "cell_type": "code",
   "execution_count": 45,
   "id": "d07c4a88",
   "metadata": {},
   "outputs": [
    {
     "data": {
      "text/plain": [
       "1450"
      ]
     },
     "execution_count": 45,
     "metadata": {},
     "output_type": "execute_result"
    }
   ],
   "source": [
    "tigers = 2500\n",
    "lions = 1450\n",
    "tigers\n",
    "lions  # attempt to call multiple variables"
   ]
  },
  {
   "cell_type": "code",
   "execution_count": 46,
   "id": "112c8073",
   "metadata": {},
   "outputs": [
    {
     "name": "stdout",
     "output_type": "stream",
     "text": [
      "2500\n",
      "1450\n"
     ]
    }
   ],
   "source": [
    "print(tigers) # requires print() function to execute multiple displays\n",
    "print(lions)"
   ]
  },
  {
   "cell_type": "markdown",
   "id": "e5d6cf88",
   "metadata": {
    "id": "c4e3a2d2"
   },
   "source": [
    "## Variable Assignment"
   ]
  },
  {
   "cell_type": "code",
   "execution_count": null,
   "id": "6e2538d6",
   "metadata": {
    "id": "f741d376",
    "scrolled": true
   },
   "outputs": [],
   "source": [
    "intvar = 10 # Integer variable\n",
    "floatvar = 2.57 # Float Variable\n",
    "strvar = \"Python Language\" # String variable\n",
    "print(intvar)\n",
    "print(floatvar)\n",
    "print(strvar)"
   ]
  },
  {
   "cell_type": "markdown",
   "id": "5e781277",
   "metadata": {
    "id": "aff84426"
   },
   "source": [
    "### Multiple Assignment"
   ]
  },
  {
   "cell_type": "code",
   "execution_count": null,
   "id": "d5834077",
   "metadata": {
    "id": "d4683b2a",
    "scrolled": true
   },
   "outputs": [],
   "source": [
    "species,age,bp = \"Elephant\",50,125.6\n",
    "# Using commas to separate variables\n",
    "print(\"Species:\",species)\n",
    "print(\"Lifespan in years:\",age)\n",
    "print(\"Average blood pressure:\",bp)"
   ]
  },
  {
   "cell_type": "code",
   "execution_count": null,
   "id": "58a62c7f",
   "metadata": {
    "id": "1644ff55",
    "scrolled": true
   },
   "outputs": [],
   "source": [
    "p1 = p2 = p3 = p4 = 44\n",
    "# All variables pointing to same value\n",
    "print(p1,p2,p3,p4)"
   ]
  },
  {
   "cell_type": "markdown",
   "id": "fce71fab",
   "metadata": {
    "id": "37f99688"
   },
   "source": [
    "# Data Types"
   ]
  },
  {
   "cell_type": "markdown",
   "id": "0a8b4086",
   "metadata": {
    "id": "5a9a8cd3"
   },
   "source": [
    "## Numeric\n",
    "**Integer**: denoted as int \n",
    "\n",
    "**Float**: denoted as float\n"
   ]
  },
  {
   "cell_type": "code",
   "execution_count": 48,
   "id": "3d5c2a5f",
   "metadata": {
    "id": "3217d802"
   },
   "outputs": [],
   "source": [
    "import sys"
   ]
  },
  {
   "cell_type": "code",
   "execution_count": 50,
   "id": "bb5bfdc8",
   "metadata": {
    "colab": {
     "base_uri": "https://localhost:8080/"
    },
    "executionInfo": {
     "elapsed": 6,
     "status": "ok",
     "timestamp": 1696742969825,
     "user": {
      "displayName": "Rama Chandra Kotturu",
      "userId": "02243285469857073193"
     },
     "user_tz": -330
    },
    "id": "2fa04823",
    "outputId": "f993dd81-c7af-4ede-db2b-00cf212e2473"
   },
   "outputs": [
    {
     "name": "stdout",
     "output_type": "stream",
     "text": [
      "92.78\n",
      "<class 'float'>\n",
      "24\n",
      "92.78  is int? False\n"
     ]
    }
   ],
   "source": [
    "val2 = 92.78 # Float data type\n",
    "print(val2)\n",
    "print(type(val2)) # type of object\n",
    "print(sys.getsizeof(val2)) # size of float object in bytes\n",
    "print(val2, \" is int?\", isinstance(val2, int)) # Val2 is an instance of float"
   ]
  },
  {
   "cell_type": "code",
   "execution_count": 51,
   "id": "a62e0007",
   "metadata": {
    "id": "61eda00f"
   },
   "outputs": [
    {
     "name": "stdout",
     "output_type": "stream",
     "text": [
      "(25+10j)\n",
      "<class 'complex'>\n",
      "32\n",
      "(25+10j)  is complex? True\n"
     ]
    }
   ],
   "source": [
    "val3 = 25 + 10j # Complex data type\n",
    "print(val3)\n",
    "print(type(val3)) # type of object\n",
    "print(sys.getsizeof(val3)) # size of float object in bytes\n",
    "print(val3, \" is complex?\", isinstance(val3, complex)) # val3 is an instance of complex"
   ]
  },
  {
   "cell_type": "markdown",
   "id": "55054121",
   "metadata": {
    "id": "d7c74ac7"
   },
   "source": [
    "## Boolean\n",
    "Boolean datatype can have only two possible values: True or False"
   ]
  },
  {
   "cell_type": "code",
   "execution_count": 52,
   "id": "d26635e0",
   "metadata": {
    "id": "052cf431"
   },
   "outputs": [],
   "source": [
    "on=True"
   ]
  },
  {
   "cell_type": "code",
   "execution_count": 53,
   "id": "80e4ad42",
   "metadata": {
    "id": "9cb97c89"
   },
   "outputs": [],
   "source": [
    "off=False"
   ]
  },
  {
   "cell_type": "code",
   "execution_count": 54,
   "id": "c8f9784b",
   "metadata": {
    "id": "0f453174"
   },
   "outputs": [
    {
     "data": {
      "text/plain": [
       "bool"
      ]
     },
     "execution_count": 54,
     "metadata": {},
     "output_type": "execute_result"
    }
   ],
   "source": [
    "type(on)"
   ]
  },
  {
   "cell_type": "code",
   "execution_count": 55,
   "id": "95f68f78",
   "metadata": {
    "id": "6211346a"
   },
   "outputs": [
    {
     "data": {
      "text/plain": [
       "True"
      ]
     },
     "execution_count": 55,
     "metadata": {},
     "output_type": "execute_result"
    }
   ],
   "source": [
    "isinstance(off, bool)"
   ]
  },
  {
   "cell_type": "code",
   "execution_count": 56,
   "id": "30365a9f",
   "metadata": {
    "id": "6211346a"
   },
   "outputs": [
    {
     "data": {
      "text/plain": [
       "True"
      ]
     },
     "execution_count": 56,
     "metadata": {},
     "output_type": "execute_result"
    }
   ],
   "source": [
    "isinstance(off, int) # qualifies as int"
   ]
  },
  {
   "cell_type": "code",
   "execution_count": 57,
   "id": "d880f56d",
   "metadata": {
    "id": "8c600c49"
   },
   "outputs": [
    {
     "data": {
      "text/plain": [
       "False"
      ]
     },
     "execution_count": 57,
     "metadata": {},
     "output_type": "execute_result"
    }
   ],
   "source": [
    "bool(0)"
   ]
  },
  {
   "cell_type": "code",
   "execution_count": 58,
   "id": "9c28a305",
   "metadata": {
    "id": "5b17409e"
   },
   "outputs": [
    {
     "data": {
      "text/plain": [
       "True"
      ]
     },
     "execution_count": 58,
     "metadata": {},
     "output_type": "execute_result"
    }
   ],
   "source": [
    "bool(-98) # Anything apart from 0 is True"
   ]
  },
  {
   "cell_type": "markdown",
   "id": "23da56e8",
   "metadata": {
    "id": "b40a9db7"
   },
   "source": [
    "## String"
   ]
  },
  {
   "cell_type": "markdown",
   "id": "eac246c1",
   "metadata": {
    "id": "6580adac"
   },
   "source": [
    "> A sequence of characters is a string."
   ]
  },
  {
   "cell_type": "code",
   "execution_count": null,
   "id": "1769c2f3",
   "metadata": {
    "id": "54346673"
   },
   "outputs": [],
   "source": [
    "doc = \"It's a fine day.\"\n",
    "doc"
   ]
  },
  {
   "cell_type": "code",
   "execution_count": null,
   "id": "0ff407be",
   "metadata": {},
   "outputs": [],
   "source": [
    "print(\"Type of the document:\",type(doc))"
   ]
  },
  {
   "cell_type": "code",
   "execution_count": null,
   "id": "e963f61f",
   "metadata": {
    "id": "34012e79"
   },
   "outputs": [],
   "source": [
    "address = '#2 Main Street, 56/3' # Define string using single quotes\n",
    "print(address)"
   ]
  },
  {
   "cell_type": "markdown",
   "id": "e3f851b9",
   "metadata": {
    "id": "21e9ae35"
   },
   "source": [
    "### String indexing"
   ]
  },
  {
   "cell_type": "code",
   "execution_count": null,
   "id": "e34f4a8f",
   "metadata": {
    "id": "cd4091f8",
    "scrolled": true
   },
   "outputs": [],
   "source": [
    "str1='HELLO PYTHON'"
   ]
  },
  {
   "cell_type": "code",
   "execution_count": null,
   "id": "94fc4ab5",
   "metadata": {
    "id": "bb12a213"
   },
   "outputs": [],
   "source": [
    "str1[5] # First character in string \"str1\""
   ]
  },
  {
   "cell_type": "code",
   "execution_count": null,
   "id": "ebeefe73",
   "metadata": {
    "id": "dead0eea"
   },
   "outputs": [],
   "source": [
    "str1[-7] # reverse indexing possible"
   ]
  },
  {
   "cell_type": "code",
   "execution_count": null,
   "id": "c0381664",
   "metadata": {
    "id": "f4bc7dfc"
   },
   "outputs": [],
   "source": [
    "len(str1) # Number of chars in given string"
   ]
  },
  {
   "cell_type": "code",
   "execution_count": null,
   "id": "b1aa7dd3",
   "metadata": {
    "id": "686c1440"
   },
   "outputs": [],
   "source": [
    "str1[-1] # Last character "
   ]
  },
  {
   "cell_type": "code",
   "execution_count": null,
   "id": "a8fd6953",
   "metadata": {
    "id": "123531e7"
   },
   "outputs": [],
   "source": [
    "str1[6] #Fetch 7th element of the string"
   ]
  },
  {
   "cell_type": "markdown",
   "id": "9e0fa997",
   "metadata": {
    "id": "617e14ce"
   },
   "source": [
    "### String Slicing"
   ]
  },
  {
   "cell_type": "code",
   "execution_count": null,
   "id": "51024767",
   "metadata": {
    "id": "51e851cb"
   },
   "outputs": [],
   "source": [
    "str1[0:5] ## start:end"
   ]
  },
  {
   "cell_type": "code",
   "execution_count": null,
   "id": "d9236737",
   "metadata": {
    "id": "8146ce76"
   },
   "outputs": [],
   "source": [
    "str1"
   ]
  },
  {
   "cell_type": "code",
   "execution_count": null,
   "id": "9cca69c5",
   "metadata": {
    "id": "0882fb00"
   },
   "outputs": [],
   "source": [
    "str2='Data is new fuel'\n",
    "# Task:-Extract new and data from above string"
   ]
  },
  {
   "cell_type": "code",
   "execution_count": null,
   "id": "37432734",
   "metadata": {},
   "outputs": [],
   "source": [
    "str1"
   ]
  },
  {
   "cell_type": "code",
   "execution_count": null,
   "id": "30e65dfe",
   "metadata": {
    "id": "ed2661d2",
    "outputId": "a91a95d2-6843-4417-981b-3dbc5fc4b82c"
   },
   "outputs": [],
   "source": [
    "str1[:] # whole string"
   ]
  },
  {
   "cell_type": "code",
   "execution_count": null,
   "id": "82adaffc",
   "metadata": {
    "id": "23b33ead",
    "outputId": "6632b0cd-c8ae-4bd2-dd2e-f3493f46d40e"
   },
   "outputs": [],
   "source": [
    "str1[3:] # default end ~ end of string"
   ]
  },
  {
   "cell_type": "code",
   "execution_count": null,
   "id": "8a58b635",
   "metadata": {
    "id": "d4627050",
    "outputId": "5c27554e-12c7-4311-9651-0b097abd0119"
   },
   "outputs": [],
   "source": [
    "str1[:6] # default start ~ beginning of string"
   ]
  },
  {
   "cell_type": "code",
   "execution_count": 1,
   "id": "43a883ed",
   "metadata": {
    "id": "5b8ffccc",
    "outputId": "35ec8739-4c94-4b99-cdbf-f6bb28b14f8d"
   },
   "outputs": [
    {
     "ename": "NameError",
     "evalue": "name 'str1' is not defined",
     "output_type": "error",
     "traceback": [
      "\u001b[1;31m---------------------------------------------------------------------------\u001b[0m",
      "\u001b[1;31mNameError\u001b[0m                                 Traceback (most recent call last)",
      "\u001b[1;32m<ipython-input-1-475649f01159>\u001b[0m in \u001b[0;36m<module>\u001b[1;34m\u001b[0m\n\u001b[1;32m----> 1\u001b[1;33m \u001b[0mstr1\u001b[0m\u001b[1;33m[\u001b[0m\u001b[1;33m-\u001b[0m\u001b[1;36m10\u001b[0m\u001b[1;33m:\u001b[0m\u001b[1;33m-\u001b[0m\u001b[1;36m5\u001b[0m\u001b[1;33m]\u001b[0m\u001b[1;33m\u001b[0m\u001b[1;33m\u001b[0m\u001b[0m\n\u001b[0m",
      "\u001b[1;31mNameError\u001b[0m: name 'str1' is not defined"
     ]
    }
   ],
   "source": [
    "str1[-10:-5]"
   ]
  },
  {
   "cell_type": "code",
   "execution_count": null,
   "id": "2625f71f",
   "metadata": {
    "id": "d5094f73"
   },
   "outputs": [],
   "source": [
    "str1"
   ]
  },
  {
   "cell_type": "code",
   "execution_count": null,
   "id": "baf0d728",
   "metadata": {
    "id": "27040e35",
    "outputId": "c62e63e0-645a-4d0b-b069-f4afdd3b20ee"
   },
   "outputs": [],
   "source": [
    "# str1[start:end:step]\n",
    "\n",
    "str1[::-2]"
   ]
  },
  {
   "cell_type": "markdown",
   "id": "ef24e66e",
   "metadata": {
    "id": "26ea1f22"
   },
   "source": [
    "### Update and Delete string"
   ]
  },
  {
   "cell_type": "markdown",
   "id": "d86a2ff3",
   "metadata": {
    "id": "8be8dec6"
   },
   "source": [
    "* Strings are immutable which means elements of a\n",
    "string cannot be changed once the they are assigned with\n",
    "any values\n"
   ]
  },
  {
   "cell_type": "code",
   "execution_count": 2,
   "id": "4ae46b1a",
   "metadata": {
    "id": "b48e5be5"
   },
   "outputs": [
    {
     "data": {
      "text/plain": [
       "'Data'"
      ]
     },
     "execution_count": 2,
     "metadata": {},
     "output_type": "execute_result"
    }
   ],
   "source": [
    "course='Data Science'\n",
    "course[:4]"
   ]
  },
  {
   "cell_type": "code",
   "execution_count": 3,
   "id": "82c46944",
   "metadata": {
    "colab": {
     "base_uri": "https://localhost:8080/",
     "height": 211
    },
    "executionInfo": {
     "elapsed": 9,
     "status": "error",
     "timestamp": 1696745745237,
     "user": {
      "displayName": "Rama Chandra Kotturu",
      "userId": "02243285469857073193"
     },
     "user_tz": -330
    },
    "id": "67aec6de",
    "outputId": "c129477c-3761-4bc1-b99e-9c2ece07b679"
   },
   "outputs": [
    {
     "ename": "TypeError",
     "evalue": "'str' object does not support item assignment",
     "output_type": "error",
     "traceback": [
      "\u001b[1;31m---------------------------------------------------------------------------\u001b[0m",
      "\u001b[1;31mTypeError\u001b[0m                                 Traceback (most recent call last)",
      "\u001b[1;32m<ipython-input-3-557bc6d541af>\u001b[0m in \u001b[0;36m<module>\u001b[1;34m\u001b[0m\n\u001b[1;32m----> 1\u001b[1;33m \u001b[0mcourse\u001b[0m\u001b[1;33m[\u001b[0m\u001b[1;33m:\u001b[0m\u001b[1;36m4\u001b[0m\u001b[1;33m]\u001b[0m \u001b[1;33m=\u001b[0m \u001b[1;34m\"Life\"\u001b[0m\u001b[1;33m\u001b[0m\u001b[1;33m\u001b[0m\u001b[0m\n\u001b[0m",
      "\u001b[1;31mTypeError\u001b[0m: 'str' object does not support item assignment"
     ]
    }
   ],
   "source": [
    "course[:4] = \"Life\""
   ]
  },
  {
   "cell_type": "code",
   "execution_count": 4,
   "id": "fe63ddaf",
   "metadata": {},
   "outputs": [
    {
     "data": {
      "text/plain": [
       "'Life Science'"
      ]
     },
     "execution_count": 4,
     "metadata": {},
     "output_type": "execute_result"
    }
   ],
   "source": [
    "# Alternately try with the replace function\n",
    "course.replace(\"Data\",\"Life\") "
   ]
  },
  {
   "cell_type": "code",
   "execution_count": 5,
   "id": "4a8a89a2",
   "metadata": {},
   "outputs": [
    {
     "name": "stdout",
     "output_type": "stream",
     "text": [
      "Data Science\n"
     ]
    }
   ],
   "source": [
    "# while it delivers the output\n",
    "print(course) # the immutable string remains unchanged"
   ]
  },
  {
   "cell_type": "code",
   "execution_count": 6,
   "id": "1db563b6",
   "metadata": {},
   "outputs": [
    {
     "ename": "NameError",
     "evalue": "name 'course' is not defined",
     "output_type": "error",
     "traceback": [
      "\u001b[1;31m---------------------------------------------------------------------------\u001b[0m",
      "\u001b[1;31mNameError\u001b[0m                                 Traceback (most recent call last)",
      "\u001b[1;32m<ipython-input-6-d74816c9c3b9>\u001b[0m in \u001b[0;36m<module>\u001b[1;34m\u001b[0m\n\u001b[0;32m      1\u001b[0m \u001b[1;32mdel\u001b[0m \u001b[0mcourse\u001b[0m \u001b[1;31m# delete the object\u001b[0m\u001b[1;33m\u001b[0m\u001b[1;33m\u001b[0m\u001b[0m\n\u001b[1;32m----> 2\u001b[1;33m \u001b[0mcourse\u001b[0m \u001b[1;31m# called right after - error confirms success\u001b[0m\u001b[1;33m\u001b[0m\u001b[1;33m\u001b[0m\u001b[0m\n\u001b[0m",
      "\u001b[1;31mNameError\u001b[0m: name 'course' is not defined"
     ]
    }
   ],
   "source": [
    "del course # delete the object\n",
    "course # called right after - error confirms success"
   ]
  },
  {
   "cell_type": "markdown",
   "id": "8fc9dbb2",
   "metadata": {
    "id": "b5b59f30"
   },
   "source": [
    "### String concatenation\n"
   ]
  },
  {
   "cell_type": "code",
   "execution_count": null,
   "id": "c760503e",
   "metadata": {
    "id": "4c2cc25b"
   },
   "outputs": [],
   "source": [
    "#  String concatenation\n",
    "s1 = \"Well\"\n",
    "s2 = \"being\"\n",
    "s1 + s2"
   ]
  },
  {
   "cell_type": "code",
   "execution_count": null,
   "id": "43ad3f11",
   "metadata": {
    "id": "b9a1bc0e"
   },
   "outputs": [],
   "source": [
    "# storing the result\n",
    "s3 = s1 + \"-\" + s2\n",
    "s3"
   ]
  },
  {
   "cell_type": "markdown",
   "id": "b50e4f41",
   "metadata": {
    "id": "7b1f3379"
   },
   "source": [
    "### String Membership"
   ]
  },
  {
   "cell_type": "code",
   "execution_count": null,
   "id": "79e53b9e",
   "metadata": {
    "id": "86d2b79a"
   },
   "outputs": [],
   "source": [
    "greeting = \"Hello Namaste Hola! Salaam\"\n",
    "greeting"
   ]
  },
  {
   "cell_type": "code",
   "execution_count": null,
   "id": "dc94cebb",
   "metadata": {
    "id": "073089bb",
    "outputId": "9cf537ce-26f1-4ee7-c863-bc38afd3a1f5"
   },
   "outputs": [],
   "source": [
    "'Bonjour' in greeting # Check for presence of substring within a document"
   ]
  },
  {
   "cell_type": "code",
   "execution_count": null,
   "id": "76806bcc",
   "metadata": {
    "id": "8c90f7d0",
    "outputId": "397087df-11a3-44a1-904f-4c025c71ce0b"
   },
   "outputs": [],
   "source": [
    "\"Namaste\" in greeting"
   ]
  },
  {
   "cell_type": "code",
   "execution_count": null,
   "id": "f05f3fff",
   "metadata": {},
   "outputs": [],
   "source": [
    "'hola' in greeting # case-sensitive"
   ]
  },
  {
   "cell_type": "markdown",
   "id": "b57777a9",
   "metadata": {
    "id": "8ece4e99"
   },
   "source": [
    "### String Partitioning\n",
    "partition() searches for a substring as argument to break up the string into 3 parts:\n",
    "- part before the argument\n",
    "- argument substring\n",
    "- part following the argument"
   ]
  },
  {
   "cell_type": "code",
   "execution_count": null,
   "id": "bed86d10",
   "metadata": {
    "executionInfo": {
     "elapsed": 454,
     "status": "ok",
     "timestamp": 1652335083127,
     "user": {
      "displayName": "Rohan Ravindra Sohani",
      "userId": "06993368347103045844"
     },
     "user_tz": -330
    },
    "id": "0ba08747",
    "outputId": "290c7825-e707-4c93-e417-d7d4ffc353c7"
   },
   "outputs": [],
   "source": [
    "str5 = \"Natural language processing with Python and R and Java\"\n",
    "L = str5.partition(\"and\")\n",
    "L"
   ]
  },
  {
   "cell_type": "code",
   "execution_count": null,
   "id": "9b2d5886",
   "metadata": {},
   "outputs": [],
   "source": [
    "str5.count(\"and\")"
   ]
  },
  {
   "cell_type": "raw",
   "id": "075e7147",
   "metadata": {
    "id": "4ee663bd"
   },
   "source": [
    "In the above string, \"and\" occurs twice. partition() locates the first instance."
   ]
  },
  {
   "cell_type": "markdown",
   "id": "5238a262",
   "metadata": {
    "id": "8c3d4fc9"
   },
   "source": [
    "### String Functions"
   ]
  },
  {
   "cell_type": "code",
   "execution_count": null,
   "id": "f7a1c046",
   "metadata": {
    "id": "be81f2fa",
    "outputId": "2164e1ae-255b-4ec4-b248-3e4be2e195c8"
   },
   "outputs": [],
   "source": [
    "mystr2 = \" Hello Everyone    \"\n",
    "mystr2"
   ]
  },
  {
   "cell_type": "code",
   "execution_count": null,
   "id": "2fcd21c3",
   "metadata": {
    "id": "d409e01e",
    "outputId": "fb82509e-9f04-4280-fbb5-e05c17ea8d45"
   },
   "outputs": [],
   "source": [
    "mystr2.count('e')"
   ]
  },
  {
   "cell_type": "code",
   "execution_count": null,
   "id": "330f4c63",
   "metadata": {
    "id": "e7a3b771",
    "outputId": "0f9ee69d-4083-4260-8986-c50c7b87dd3c"
   },
   "outputs": [],
   "source": [
    "mystr2.strip() # removes whitespaces at the start and end of string"
   ]
  },
  {
   "cell_type": "code",
   "execution_count": null,
   "id": "9a6beaf8",
   "metadata": {
    "id": "0c5a67a2",
    "outputId": "26b6371c-4275-48a0-a8e5-ff2f5e0d7871"
   },
   "outputs": [],
   "source": [
    "mystr2  # Immutability"
   ]
  },
  {
   "cell_type": "code",
   "execution_count": null,
   "id": "60bd59b0",
   "metadata": {
    "id": "ed2b80db"
   },
   "outputs": [],
   "source": [
    "new_greet=mystr2.strip()"
   ]
  },
  {
   "cell_type": "code",
   "execution_count": null,
   "id": "f05ff326",
   "metadata": {
    "id": "822cbd37",
    "outputId": "71e0085f-a1c8-493d-e8dc-3adfa56191a8"
   },
   "outputs": [],
   "source": [
    "new_greet"
   ]
  },
  {
   "cell_type": "code",
   "execution_count": null,
   "id": "9e1e4b35",
   "metadata": {
    "id": "af7c9b10"
   },
   "outputs": [],
   "source": [
    "prep='   &&&&   ***Preparation Predecessor Premonition Prenuptials Projection*****   %%&&&'\n",
    "prep"
   ]
  },
  {
   "cell_type": "code",
   "execution_count": null,
   "id": "e81788d4",
   "metadata": {},
   "outputs": [],
   "source": [
    "prep.strip() # default"
   ]
  },
  {
   "cell_type": "code",
   "execution_count": null,
   "id": "34396043",
   "metadata": {},
   "outputs": [],
   "source": [
    "prep_clean = prep.strip(\"& %*\")\n",
    "prep_clean"
   ]
  },
  {
   "cell_type": "code",
   "execution_count": null,
   "id": "87dfa483",
   "metadata": {},
   "outputs": [],
   "source": [
    "prep_clean.count(\"Pre\")"
   ]
  },
  {
   "cell_type": "code",
   "execution_count": null,
   "id": "0e4afca8",
   "metadata": {},
   "outputs": [],
   "source": [
    "prep_clean.lower() # lowercase"
   ]
  },
  {
   "cell_type": "code",
   "execution_count": null,
   "id": "eb529599",
   "metadata": {},
   "outputs": [],
   "source": [
    "prep_clean.upper() # all caps"
   ]
  },
  {
   "cell_type": "markdown",
   "id": "5a01afb1",
   "metadata": {},
   "source": [
    "### format() for a string"
   ]
  },
  {
   "cell_type": "code",
   "execution_count": null,
   "id": "773bdba6",
   "metadata": {
    "id": "ff8f5f98",
    "outputId": "bf72a4a5-8f64-4c51-fe49-643f4555fe5d"
   },
   "outputs": [],
   "source": [
    "# Combining string & numbers using format method\n",
    "item1 = 40\n",
    "item2 = 55\n",
    "item3 = 77\n",
    "\"Cost of the three items are {} , {} and {} respectively.\".format(item1,item3,item2)"
   ]
  },
  {
   "cell_type": "code",
   "execution_count": null,
   "id": "e7baa15b",
   "metadata": {},
   "outputs": [],
   "source": [
    "car=\"Tata Motors\"\n",
    "consult = \"TCS\"\n",
    "airline = \"Air India\"\n",
    "tata_grp = \"The conglomerate Tata & Sons has several companies with {}, {} and {} into manufacturing, services and aviation.\"\n",
    "print(tata_grp.format(car,consult,airline))"
   ]
  },
  {
   "cell_type": "markdown",
   "id": "323d6c3c",
   "metadata": {
    "id": "ed364f92"
   },
   "source": [
    "# Typecasting"
   ]
  },
  {
   "cell_type": "markdown",
   "id": "6061db04",
   "metadata": {
    "id": "1eee6a0d"
   },
   "source": [
    "Type Casting is the process of a variable's data type converted into another type in order for an operation to be performed.\n",
    "\n",
    "* There are 2 ways in which typecasting occurs:\n",
    "\n",
    "1) Autotypecasting\n",
    "\n",
    "2) Forced Typecasting"
   ]
  },
  {
   "cell_type": "markdown",
   "id": "41a17d4a",
   "metadata": {
    "id": "202310c5"
   },
   "source": [
    "## Auto Typecasting\n",
    "* The Python interpreter automatically converts one data type to another without any user involvement."
   ]
  },
  {
   "cell_type": "code",
   "execution_count": 1,
   "id": "c14fa9e7",
   "metadata": {
    "id": "85f98668",
    "outputId": "5cef69de-3df3-49d8-8bdb-7a4d514c7ad9",
    "scrolled": true
   },
   "outputs": [
    {
     "data": {
      "text/plain": [
       "9.67"
      ]
     },
     "execution_count": 1,
     "metadata": {},
     "output_type": "execute_result"
    }
   ],
   "source": [
    "4 + 5.67 + False"
   ]
  },
  {
   "cell_type": "code",
   "execution_count": 2,
   "id": "4d9857ce",
   "metadata": {
    "id": "5ae66f4a",
    "outputId": "edc3836e-2555-4652-f091-77cfdeaa41ee"
   },
   "outputs": [
    {
     "data": {
      "text/plain": [
       "10.6"
      ]
     },
     "execution_count": 2,
     "metadata": {},
     "output_type": "execute_result"
    }
   ],
   "source": [
    "4 + 5.6 + False + True"
   ]
  },
  {
   "cell_type": "code",
   "execution_count": 3,
   "id": "4607ffd4",
   "metadata": {
    "colab": {
     "base_uri": "https://localhost:8080/",
     "height": 166
    },
    "executionInfo": {
     "elapsed": 8,
     "status": "error",
     "timestamp": 1652354423989,
     "user": {
      "displayName": "Rohan Ravindra Sohani",
      "userId": "06993368347103045844"
     },
     "user_tz": -330
    },
    "id": "d2d1107a",
    "outputId": "d1145384-0b36-470d-c901-9c394cf2fb51"
   },
   "outputs": [
    {
     "ename": "TypeError",
     "evalue": "unsupported operand type(s) for +: 'int' and 'str'",
     "output_type": "error",
     "traceback": [
      "\u001b[1;31m---------------------------------------------------------------------------\u001b[0m",
      "\u001b[1;31mTypeError\u001b[0m                                 Traceback (most recent call last)",
      "Cell \u001b[1;32mIn[3], line 1\u001b[0m\n\u001b[1;32m----> 1\u001b[0m \u001b[38;5;241m4\u001b[39m\u001b[38;5;241m+\u001b[39m\u001b[38;5;241m3\u001b[39m\u001b[38;5;241m+\u001b[39m\u001b[38;5;124m'\u001b[39m\u001b[38;5;124mdatamites\u001b[39m\u001b[38;5;124m'\u001b[39m\u001b[38;5;241m+\u001b[39m\u001b[38;5;241m6.7\u001b[39m\n",
      "\u001b[1;31mTypeError\u001b[0m: unsupported operand type(s) for +: 'int' and 'str'"
     ]
    }
   ],
   "source": [
    "4+3+'datamites'+6.7"
   ]
  },
  {
   "cell_type": "markdown",
   "id": "3aab8ae8",
   "metadata": {
    "id": "86d08aae"
   },
   "source": [
    "## Forced Typecasting"
   ]
  },
  {
   "cell_type": "code",
   "execution_count": 4,
   "id": "d77023d7",
   "metadata": {
    "id": "d42d6532"
   },
   "outputs": [],
   "source": [
    "a=9.7 # consider a float variable"
   ]
  },
  {
   "cell_type": "code",
   "execution_count": 5,
   "id": "e1e5bd1d",
   "metadata": {
    "id": "5c4bd907",
    "outputId": "a15e6835-34ce-4423-cb9d-e22c2ad96fa5"
   },
   "outputs": [
    {
     "data": {
      "text/plain": [
       "float"
      ]
     },
     "execution_count": 5,
     "metadata": {},
     "output_type": "execute_result"
    }
   ],
   "source": [
    "type(a)"
   ]
  },
  {
   "cell_type": "code",
   "execution_count": 6,
   "id": "3f035a7b",
   "metadata": {
    "id": "52c773ff",
    "outputId": "9a733539-974e-4cc7-8178-a74375a463e9"
   },
   "outputs": [
    {
     "data": {
      "text/plain": [
       "9"
      ]
     },
     "execution_count": 6,
     "metadata": {},
     "output_type": "execute_result"
    }
   ],
   "source": [
    "int(a) # drags to base integer value"
   ]
  },
  {
   "cell_type": "code",
   "execution_count": 7,
   "id": "acf1258f",
   "metadata": {
    "id": "dc49132c"
   },
   "outputs": [],
   "source": [
    "num=5 # consider an integer variable"
   ]
  },
  {
   "cell_type": "code",
   "execution_count": 8,
   "id": "617e733b",
   "metadata": {
    "id": "afe1b8fe",
    "outputId": "ab1e2fae-0126-4a5f-db7c-4bcceff6f682"
   },
   "outputs": [
    {
     "data": {
      "text/plain": [
       "5.0"
      ]
     },
     "execution_count": 8,
     "metadata": {},
     "output_type": "execute_result"
    }
   ],
   "source": [
    "float(num)"
   ]
  },
  {
   "cell_type": "code",
   "execution_count": 9,
   "id": "87deb938",
   "metadata": {
    "id": "5263d0e3",
    "outputId": "f012207f-28c1-4c18-bcba-84b521c2ae32"
   },
   "outputs": [
    {
     "data": {
      "text/plain": [
       "True"
      ]
     },
     "execution_count": 9,
     "metadata": {},
     "output_type": "execute_result"
    }
   ],
   "source": [
    "bool(num)  # boolean for any value except 0 is True"
   ]
  },
  {
   "cell_type": "code",
   "execution_count": 10,
   "id": "0e5f3be3",
   "metadata": {
    "id": "0ba33ee8",
    "outputId": "1c24056a-fe6a-49d2-d11f-d91285b29803",
    "scrolled": true
   },
   "outputs": [
    {
     "data": {
      "text/plain": [
       "'5'"
      ]
     },
     "execution_count": 10,
     "metadata": {},
     "output_type": "execute_result"
    }
   ],
   "source": [
    "str(num)"
   ]
  },
  {
   "cell_type": "code",
   "execution_count": 11,
   "id": "cfc22b93",
   "metadata": {
    "id": "423ea644"
   },
   "outputs": [],
   "source": [
    "switch=False # consider a boolean variable"
   ]
  },
  {
   "cell_type": "code",
   "execution_count": 12,
   "id": "d8b45d4c",
   "metadata": {
    "id": "d2f19935",
    "outputId": "6a515d9f-38bd-47b2-ce48-21c0195fff39"
   },
   "outputs": [
    {
     "data": {
      "text/plain": [
       "0.0"
      ]
     },
     "execution_count": 12,
     "metadata": {},
     "output_type": "execute_result"
    }
   ],
   "source": [
    "float(switch)"
   ]
  },
  {
   "cell_type": "code",
   "execution_count": 13,
   "id": "7c9f0635",
   "metadata": {
    "id": "26b1d16e",
    "outputId": "2e1abf4e-d337-4a55-f252-922115d32aae"
   },
   "outputs": [
    {
     "data": {
      "text/plain": [
       "0"
      ]
     },
     "execution_count": 13,
     "metadata": {},
     "output_type": "execute_result"
    }
   ],
   "source": [
    "int(switch)"
   ]
  },
  {
   "cell_type": "code",
   "execution_count": 14,
   "id": "e51ab61c",
   "metadata": {
    "id": "1a52f466",
    "outputId": "ae0a1f3d-6485-4b83-921a-9c9e153cbc87"
   },
   "outputs": [
    {
     "data": {
      "text/plain": [
       "'False'"
      ]
     },
     "execution_count": 14,
     "metadata": {},
     "output_type": "execute_result"
    }
   ],
   "source": [
    "str(switch)"
   ]
  },
  {
   "cell_type": "code",
   "execution_count": 15,
   "id": "4e48d722",
   "metadata": {
    "id": "2613aa7d"
   },
   "outputs": [],
   "source": [
    "doc='Happiness' # Consider a string"
   ]
  },
  {
   "cell_type": "code",
   "execution_count": 16,
   "id": "c43dae1d",
   "metadata": {
    "id": "c3cbcdb2",
    "outputId": "46363522-79a0-435e-b5a7-1967416951d3"
   },
   "outputs": [
    {
     "ename": "ValueError",
     "evalue": "could not convert string to float: 'Happiness'",
     "output_type": "error",
     "traceback": [
      "\u001b[1;31m---------------------------------------------------------------------------\u001b[0m",
      "\u001b[1;31mValueError\u001b[0m                                Traceback (most recent call last)",
      "Cell \u001b[1;32mIn[16], line 1\u001b[0m\n\u001b[1;32m----> 1\u001b[0m \u001b[38;5;28mfloat\u001b[39m(doc)\n",
      "\u001b[1;31mValueError\u001b[0m: could not convert string to float: 'Happiness'"
     ]
    }
   ],
   "source": [
    "float(doc)"
   ]
  },
  {
   "cell_type": "code",
   "execution_count": 17,
   "id": "1da3fc8b",
   "metadata": {
    "id": "40f399e5",
    "outputId": "af69c6fb-8e20-4eb8-8e42-fc61e4fe9824"
   },
   "outputs": [
    {
     "ename": "ValueError",
     "evalue": "invalid literal for int() with base 10: 'Happiness'",
     "output_type": "error",
     "traceback": [
      "\u001b[1;31m---------------------------------------------------------------------------\u001b[0m",
      "\u001b[1;31mValueError\u001b[0m                                Traceback (most recent call last)",
      "Cell \u001b[1;32mIn[17], line 1\u001b[0m\n\u001b[1;32m----> 1\u001b[0m \u001b[38;5;28mint\u001b[39m(doc)\n",
      "\u001b[1;31mValueError\u001b[0m: invalid literal for int() with base 10: 'Happiness'"
     ]
    }
   ],
   "source": [
    "int(doc)"
   ]
  },
  {
   "cell_type": "raw",
   "id": "65b4c595",
   "metadata": {},
   "source": [
    "The numerical equivalent of a string is usually non-existent. "
   ]
  },
  {
   "cell_type": "code",
   "execution_count": 18,
   "id": "81d7a87c",
   "metadata": {
    "id": "31946450"
   },
   "outputs": [],
   "source": [
    "blank_str=''"
   ]
  },
  {
   "cell_type": "code",
   "execution_count": 19,
   "id": "97cb12f6",
   "metadata": {
    "id": "1fee0875",
    "outputId": "aa979e07-2441-4751-d374-3bf3015f6c34"
   },
   "outputs": [
    {
     "data": {
      "text/plain": [
       "False"
      ]
     },
     "execution_count": 19,
     "metadata": {},
     "output_type": "execute_result"
    }
   ],
   "source": [
    "bool(blank_str) # empty string ~ null value or 0"
   ]
  },
  {
   "cell_type": "code",
   "execution_count": 20,
   "id": "99e49fb8",
   "metadata": {
    "id": "bd684c6f",
    "outputId": "efaac74d-183c-41cf-e3e8-e5222355dba2"
   },
   "outputs": [
    {
     "data": {
      "text/plain": [
       "2"
      ]
     },
     "execution_count": 20,
     "metadata": {},
     "output_type": "execute_result"
    }
   ],
   "source": [
    "int('2') # an exception"
   ]
  },
  {
   "cell_type": "code",
   "execution_count": 21,
   "id": "9d65a03a",
   "metadata": {
    "id": "2c1e5c2c",
    "outputId": "828371ac-2509-4c14-f604-780223509aeb"
   },
   "outputs": [
    {
     "ename": "ValueError",
     "evalue": "could not convert string to float: 'abc'",
     "output_type": "error",
     "traceback": [
      "\u001b[1;31m---------------------------------------------------------------------------\u001b[0m",
      "\u001b[1;31mValueError\u001b[0m                                Traceback (most recent call last)",
      "Cell \u001b[1;32mIn[21], line 1\u001b[0m\n\u001b[1;32m----> 1\u001b[0m \u001b[38;5;28mfloat\u001b[39m(\u001b[38;5;124m'\u001b[39m\u001b[38;5;124mabc\u001b[39m\u001b[38;5;124m'\u001b[39m)\n",
      "\u001b[1;31mValueError\u001b[0m: could not convert string to float: 'abc'"
     ]
    }
   ],
   "source": [
    "float('abc')  # Convert the datatype to float"
   ]
  },
  {
   "cell_type": "code",
   "execution_count": 22,
   "id": "b23f7771",
   "metadata": {
    "id": "395b4aa7",
    "outputId": "89ec310d-ed5d-44fb-b8c2-b28688feeaeb",
    "scrolled": true
   },
   "outputs": [
    {
     "data": {
      "text/plain": [
       "True"
      ]
     },
     "execution_count": 22,
     "metadata": {},
     "output_type": "execute_result"
    }
   ],
   "source": [
    "bool(8.9)#converting float type into bool"
   ]
  },
  {
   "cell_type": "code",
   "execution_count": 23,
   "id": "90da9514",
   "metadata": {
    "id": "a48861ee",
    "outputId": "bba63f1e-a5a9-455c-f61f-809438ef44ef",
    "scrolled": true
   },
   "outputs": [
    {
     "data": {
      "text/plain": [
       "False"
      ]
     },
     "execution_count": 23,
     "metadata": {},
     "output_type": "execute_result"
    }
   ],
   "source": [
    "bool(0)"
   ]
  },
  {
   "cell_type": "code",
   "execution_count": 24,
   "id": "8d485449",
   "metadata": {
    "id": "00a8c882",
    "outputId": "2c76b4c7-3f46-4a60-a80a-6d695900129d",
    "scrolled": true
   },
   "outputs": [
    {
     "data": {
      "text/plain": [
       "True"
      ]
     },
     "execution_count": 24,
     "metadata": {},
     "output_type": "execute_result"
    }
   ],
   "source": [
    "bool(-1)"
   ]
  },
  {
   "cell_type": "code",
   "execution_count": 25,
   "id": "f94e64dd",
   "metadata": {
    "id": "85eff29b",
    "outputId": "18bc98de-936d-4452-f99c-6fd3da734426"
   },
   "outputs": [
    {
     "data": {
      "text/plain": [
       "5"
      ]
     },
     "execution_count": 25,
     "metadata": {},
     "output_type": "execute_result"
    }
   ],
   "source": [
    "# Guess the output\n",
    "int(1.5)+4+bool(0)"
   ]
  },
  {
   "cell_type": "code",
   "execution_count": 26,
   "id": "369bfa15",
   "metadata": {
    "id": "d63dad07",
    "outputId": "047f3686-c0ea-424c-fdaa-a1d42268c8d2"
   },
   "outputs": [
    {
     "data": {
      "text/plain": [
       "12.0"
      ]
     },
     "execution_count": 26,
     "metadata": {},
     "output_type": "execute_result"
    }
   ],
   "source": [
    "int(5.6)+float(6)+bool(23)"
   ]
  },
  {
   "cell_type": "code",
   "execution_count": 27,
   "id": "63a35d2d",
   "metadata": {
    "id": "06aee519",
    "outputId": "d25165bc-5017-47eb-ab1d-6bda1c5f499a"
   },
   "outputs": [
    {
     "data": {
      "text/plain": [
       "12.2"
      ]
     },
     "execution_count": 27,
     "metadata": {},
     "output_type": "execute_result"
    }
   ],
   "source": [
    "int(6.5)+1.2+int(5.5)+ bool(0)"
   ]
  },
  {
   "cell_type": "code",
   "execution_count": null,
   "id": "c13dee07",
   "metadata": {},
   "outputs": [],
   "source": []
  }
 ],
 "metadata": {
  "colab": {
   "provenance": []
  },
  "kernelspec": {
   "display_name": "Python [conda env:base] *",
   "language": "python",
   "name": "conda-base-py"
  },
  "language_info": {
   "codemirror_mode": {
    "name": "ipython",
    "version": 3
   },
   "file_extension": ".py",
   "mimetype": "text/x-python",
   "name": "python",
   "nbconvert_exporter": "python",
   "pygments_lexer": "ipython3",
   "version": "3.12.7"
  }
 },
 "nbformat": 4,
 "nbformat_minor": 5
}
